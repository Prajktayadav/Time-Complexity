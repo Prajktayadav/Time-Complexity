{
  "nbformat": 4,
  "nbformat_minor": 0,
  "metadata": {
    "colab": {
      "provenance": []
    },
    "kernelspec": {
      "name": "python3",
      "display_name": "Python 3"
    },
    "language_info": {
      "name": "python"
    }
  },
  "cells": [
    {
      "cell_type": "code",
      "execution_count": 1,
      "metadata": {
        "id": "z6oU78IzU1Sy"
      },
      "outputs": [],
      "source": []
    },
    {
      "cell_type": "code",
      "source": [
        "from typing import type_check_only\n",
        "#Problem 1:\n",
        "\n",
        "def quicksort(arr):\n",
        "  if len(arr) <= 1:\n",
        "    return arr\n",
        "  pivot = arr[len(arr)//2]\n",
        "  left =[x for x in arr if x < pivot]\n",
        "  middle = [x for x in arr if x == pivot]\n",
        "  right = [x for x in arr if x > pivot]\n",
        "  return quicksort(left) + middle+quicksort(right)\n",
        "\n",
        "1. Choosing the pivot: This operation typically takes O(1) time.\n",
        "2. Partitioning the array: Partitioning the array into smaller subarrays around the\n",
        "pivot takes O(n) time, where n is the number of element in the array.\n",
        "In your implementation, you are iterating through the array three times to create type_check_onlyleft,middle,and right aubarray.\n",
        "Each iteration takes O(n) time, resulting in a total time complexity of O(3n), which simplifies to O(n).\n",
        "3.Recursion calls:After partitioning, the 'quicksort' function is recursively called on the left and right subarrays.\n",
        "The size of these subarays is not necessarily halved in each recursive call, as it depends on the distribution of element relative to the pivot.\n",
        "However,on average,we can expext each partition to be around half the size of the original array.\n",
        "Therefore, the recursive calls from binary tree,and total time complexity of the recrsive calls can be represented as O(n log n) in the averae case.\n",
        "\n",
        "\n",
        "Combining these factors:\n",
        "* The partitioning step takes O(n) time.\n",
        "* The recursive calls take O(n log n) time.\n",
        "\n"
      ],
      "metadata": {
        "id": "8Dt8vx9dVD5z"
      },
      "execution_count": 2,
      "outputs": []
    },
    {
      "cell_type": "code",
      "source": [
        "from itertools import accumulate\n",
        "#Problem 2 :\n",
        "def nested_loop_example(matrix):\n",
        "rows, cols = len(matrix), len(matrix[0])\n",
        "total = 0\n",
        "for i in range(rows):\n",
        "for j in range(cols):\n",
        "total += matrix[i][j]\n",
        "return total\n",
        "\n",
        "1. Iterating through the matrix:The code uses two nested loops to iterate over each element of the matrix.\n",
        "The outer loop iterates over the rows,and inner loop iterates over the columns.\n",
        "The number of iterations for the outer loop is equal to the number of ros, and the number of iterations for the outer loop is equal to the number of columns.\n",
        "Therefore,the total number of iterations is proportional to the number of elements in the matrix, which is rows*columns.\n",
        "\n",
        "2.accumulating the total:Inside the nested loops,the code performs a constant-time operation(adding the value of each element to the total),\n",
        "Since this operation is independent of the size of matrix,its time complexity is O(1).\n",
        "\n",
        "Combining these factors:\n",
        "*The nested loops iterate over all element of the matrix, which takes o(rows*columns)time.\n",
        "*Inside the loops,the total is accumulated in constant time,which doesn't affect the overall time complexity.\n",
        "\n",
        "Therefore,the overall time complexity of the provided function is O(rows*columns),where rows and columns are the number o rows and columns in the matrix,respestively.\n",
        "\n",
        "\n"
      ],
      "metadata": {
        "id": "-D_fR2OiWK03"
      },
      "execution_count": null,
      "outputs": []
    },
    {
      "cell_type": "code",
      "source": [
        "#Problem 3 :\n",
        "def example_function(arr):\n",
        "result = 0\n",
        "for element in arr:\n",
        "result += element\n",
        "return result\n",
        "\n",
        "The time complexity of the provided code block can be analyzed as follows:\n",
        "\n",
        "1. Iterating through thr array: The code iterates over each element of the array once using a loop.\n",
        "Let's denote the length of the array as n.\n",
        "Therefore,the loop itertes n times, where n is the length of the array.\n",
        "\n",
        "2.Accumulating the total: Inside the loop,the code performs a constant-time operation(adding the value of each element to the result).\n",
        "Since this operation is independent of the size of the array,its time complexity is O(1).\n",
        "\n",
        "Combining these factors:\n",
        "*The loop iterates over all element of the array.which takes O(n) time.\n",
        "*Inside the loop, the total is accumulated in constant time, which doesn't affect the overall time complexity.\n",
        "\n",
        "Therefore,the overall time complexity of the provided function is O(n),where n is the length of the input array.\n",
        "\n"
      ],
      "metadata": {
        "id": "m2ujaSVImnhZ"
      },
      "execution_count": null,
      "outputs": []
    },
    {
      "cell_type": "code",
      "source": [
        "#Problem 4 :\n",
        "def longest_increasing_subsequence(nums):\n",
        "n = len(nums)\n",
        "lis = [1] * n\n",
        "for i in range(1, n):\n",
        "for j in range(0, i):\n",
        "if nums[i] > nums[j] and lis[i] < lis[j] + 1:\n",
        "lis[i] = lis[j] + 1\n",
        "return max(lis)\n",
        "\n",
        "The time complexity of the provided code bblock can be analyzed as follows:\n",
        "\n",
        "1.Initialization: Creating the 'lis' list of length 'n' takes O(n) time.\n",
        "\n",
        "2.Nested Loops: The neste loops iterate over the array 'nums'.Let's denote the length of 'nums' as 'n'.\n",
        "*The outer loop runs index 1 to 'n-1', so it iterates 'n-1' times.\n",
        "*The inner loop runs from index 0 o 'i-1' in each iteration of the outer loop.\n",
        "In the worst case, it iterates approximately 'i' times for each value of 'i'.\n",
        "Therefore,the total number of iteration of the inner loop can be approximates as:\n",
        " i=1\n",
        "∑\n",
        "n−1 i= n(n−1)/2\n",
        "\n",
        "Thus,the inner loop has a time complexity of O(n2)deu to the triangular number series.\n",
        "3.Conditional Check:Inside the nested loop,there is a conditional check which has a constant time complexity O(1).\n",
        "4.Maximun Calculation: Finally,finding the maximum value in the 'lis' list also takes O(n) time.\n",
        "\n",
        "\n",
        "​COmbining these factors:\n",
        "*The initialization takes O(n) time.\n",
        "*The nested loops take O(n2) time.\n",
        "*The conditional checks inside the loops take O(1) time.\n",
        "*Finding the maximun value takes O(n) time.\n",
        "\n",
        "Thus,the overall time complexity of the provided function is dominated by the nested loops,resulting in O(n2).\n",
        "\n",
        "\n",
        "\n"
      ],
      "metadata": {
        "id": "OTgHJzeNmnce"
      },
      "execution_count": null,
      "outputs": []
    },
    {
      "cell_type": "code",
      "source": [
        "#Problem 5 :\n",
        "def mysterious_function(arr):\n",
        "n = len(arr)\n",
        "result = 0\n",
        "for i in range(n):\n",
        "for j in range(i, n):\n",
        "result += arr[i] * arr[j]\n",
        "return result\n",
        "\n",
        "To find the complexity og the provided code block,let's analyze it step by step:\n",
        "1.Initialization : Getting the length of the array 'arr' takes O(1) time.\n",
        "2.Nested Loops: The nested loops iterate over the array 'arr'.Let's denote the length of 'arr' as 'n'.\n",
        "*The outer loop runs from index 0 to 'n-1',so it iterates 'n' times.\n",
        "*The ineer loop runs from index 'i' to 'n-2' ineach iteration of the outer loop. In the worst case, it iterates approximately 'n-1' times for each value of 'i'.\n",
        "\n",
        "Therefore,the total number of iteration of the inner loop can be approximated as:\n",
        "\n",
        "i=0\n",
        "∑n−1=(n−i)=n2−n(n+1)/2\n",
        "\n",
        "Thus,the inner loop has a time complexity of O(n2)due to the quadratic term.\n",
        "3.Accuulation:Inside the nested loops,the code accumulated the product of array element.The addition operation is constant time,O(1).\n",
        "\n",
        "Combining these factors:\n",
        "*The initialization takes O(1)time.\n",
        "*The nested loops take O(n2)time.\n",
        "*The accumulation inside the loops is constant time,O(1).\n",
        "\n",
        "Thus,the overall time complexity of the provided function is dominated by the nested loop, resulting in O(n2).\n",
        "\n",
        "​\n"
      ],
      "metadata": {
        "id": "ryU2JttxmnWF"
      },
      "execution_count": null,
      "outputs": []
    },
    {
      "cell_type": "code",
      "source": [
        "#Solve the following problems on recursion\n",
        "#Problem 6 : Sum of Digits\n",
        "#Write a recursive function to calculate the sum of digits of a given positive integer.\n",
        "#sum_of_digits(123) -> 6\n",
        "\n",
        "\n",
        "#1.Base Case:If the given number is less than 10,return that number itself,as the sum of its digits is the number itself.\n",
        "#2.Recursive Case:Otherwise,calculate the sum of digits of the number by adding the last(obtained using modulo operation)oto the sum of digits of the number obtained by removing the last digit(obtained using integer division).\n",
        "\n",
        "#Here's the python code implementing the recursive function:\n",
        "\n",
        "def sum_of_digits(n):\n",
        "    if n < 10:\n",
        "        return n\n",
        "    return n % 10 + sum_of_digits(n // 10)\n",
        "\n",
        "result = sum_of_digits(123)\n",
        "print(\"Sum of digits:\", result)\n"
      ],
      "metadata": {
        "colab": {
          "base_uri": "https://localhost:8080/"
        },
        "id": "rgJxRrUumnOk",
        "outputId": "6572d40a-54a8-4644-d5f1-c4954deb95a0"
      },
      "execution_count": 3,
      "outputs": [
        {
          "output_type": "stream",
          "name": "stdout",
          "text": [
            "Sum of digits: 6\n"
          ]
        }
      ]
    },
    {
      "cell_type": "code",
      "source": [
        "#Problem 7: Fibonacci Series\n",
        "\n",
        "#1.Base Case:\n",
        "#If n is 0, return an empty list.\n",
        "#If n is 1, return [0] as the first Fibonacci number.\n",
        "\n",
        "#1.Recursive Case:\n",
        "#For n greater than 1, generate the first n-1 Fibonacci numbers recursively.\n",
        "#Calculate the nth Fibonacci number by adding the (n-1)th and (n-2)th Fibonacci numbers.\n",
        "\n",
        "def fibonacci_series(n):\n",
        "  if n == 0:\n",
        "    return []\n",
        "  if n == 1:\n",
        "    return [0]\n",
        "\n",
        "  series = fibonacci_series(n-1)\n",
        "  return series\n",
        "\n",
        "result = fibonacci_series(6)\n",
        "print(\"Fibonacci series:\", result)\n",
        "\n"
      ],
      "metadata": {
        "colab": {
          "base_uri": "https://localhost:8080/"
        },
        "id": "sGJtDAWxmnJR",
        "outputId": "b4b7883d-9770-44f6-f856-8ab8c357d547"
      },
      "execution_count": 7,
      "outputs": [
        {
          "output_type": "stream",
          "name": "stdout",
          "text": [
            "Fibonacci series: [0]\n"
          ]
        }
      ]
    },
    {
      "cell_type": "code",
      "source": [
        "#Problem 8 : Subset Sum\n",
        "\n",
        "#1.Base Cases:\n",
        "#If the target sum is 0, return True, as an empty subset (with a sum of 0) can always be found.\n",
        "#If the set of integers is empty, return False, as no subset can be found.\n",
        "\n",
        "#2.Recursive Case:\n",
        "#Consider two scenarios:\n",
        "#Exclude the last integer from the set and check if there exists a subset that sums up to the target sum.\n",
        "#Include the last integer from the set and check if there exists a subset (excluding the last integer) that sums up to the target sum minus the last integer.\n",
        "\n",
        "#3.Return True if either of the above scenarios results in True; otherwise, return False.\n",
        "\n",
        "\n",
        "\n",
        "def subset_sum(integers, target):\n",
        "    if target == 0:\n",
        "        return True\n",
        "    if not integers:\n",
        "        return False\n",
        "\n",
        "    exclude_last = subset_sum(integers[:-1], target)\n",
        "    include_last = subset_sum(integers[:-1], target - integers[-1])\n",
        "    return exclude_last or include_last\n",
        "\n",
        "integers = [3, 34, 4, 12, 5, 2]\n",
        "target_sum = 9\n",
        "result = subset_sum(integers, target_sum)\n",
        "print(\"Subset sum exists:\", result)\n"
      ],
      "metadata": {
        "colab": {
          "base_uri": "https://localhost:8080/"
        },
        "id": "whiOSP84yFTZ",
        "outputId": "19d25420-3d5a-4817-ac13-d94d8b994a73"
      },
      "execution_count": 8,
      "outputs": [
        {
          "output_type": "stream",
          "name": "stdout",
          "text": [
            "Subset sum exists: True\n"
          ]
        }
      ]
    },
    {
      "cell_type": "code",
      "source": [
        "#Problem 9: Word Break\n",
        "\n",
        "#1.Base Case:\n",
        "#If the string is empty, return True, indicating that it can be segmented into dictionary words.\n",
        "\n",
        "#2.Recursive Case:\n",
        "#For each prefix of the string (from the beginning), check if it's in the dictionary.\n",
        "#If a prefix is found in the dictionary, recursively call the function with the remaining suffix of the string.\n",
        "\n",
        "#3.If any of the recursive calls return True, then the string can be segmented into dictionary words.\n",
        "\n",
        "\n",
        "def word_break(s, word_dict):\n",
        "    if not s:\n",
        "        return True\n",
        "\n",
        "    for i in range(1, len(s) + 1):\n",
        "        prefix = s[:i]\n",
        "        if prefix in word_dict:\n",
        "            if word_break(s[i:], word_dict):\n",
        "                return True\n",
        "\n",
        "    return False\n",
        "\n",
        "s = \"leetcode\"\n",
        "word_dict = {\"leet\", \"code\"}\n",
        "result = word_break(s, word_dict)\n",
        "print(\"Can segment into dictionary words:\", result)\n"
      ],
      "metadata": {
        "colab": {
          "base_uri": "https://localhost:8080/"
        },
        "id": "dnSDXkL6ywCh",
        "outputId": "da189a3c-0c52-48ac-e3bd-435a6715b215"
      },
      "execution_count": 9,
      "outputs": [
        {
          "output_type": "stream",
          "name": "stdout",
          "text": [
            "Can segment into dictionary words: True\n"
          ]
        }
      ]
    },
    {
      "cell_type": "code",
      "source": [
        "#Problem 10 : N-Queens\n",
        "\n",
        "#1.Start with an empty N×N chessboard.\n",
        "#2.Try placing a queen in the first row and column and recursively try to place queens in the remaining rows.\n",
        "#3.If a queen can be placed in a position, mark that position as occupied and move to the next row.\n",
        "#4.If all queens are successfully placed, store the configuration as a valid solution.\n",
        "#5.If placing a queen in a position leads to conflicts, backtrack and try a different position.\n",
        "\n",
        "\n",
        "def is_safe(board, row, col, n):\n",
        "    for i in range(row):\n",
        "        if board[i][col] == 'Q':\n",
        "            return False\n",
        "\n",
        "    for i, j in zip(range(row, -1, -1), range(col, -1, -1)):\n",
        "        if board[i][j] == 'Q':\n",
        "            return False\n",
        "\n",
        "    for i, j in zip(range(row, -1, -1), range(col, n)):\n",
        "        if board[i][j] == 'Q':\n",
        "            return False\n",
        "\n",
        "    return True\n",
        "\n",
        "def solve_n_queens(n):\n",
        "    def solve(board, row, n, result):\n",
        "        if row == n:\n",
        "            result.append([\"\".join(row) for row in board])\n",
        "            return\n",
        "\n",
        "        for col in range(n):\n",
        "            if is_safe(board, row, col, n):\n",
        "                board[row][col] = 'Q'\n",
        "                solve(board, row + 1, n, result)\n",
        "                board[row][col] = '.'\n",
        "\n",
        "    board = [['.' for _ in range(n)] for _ in range(n)]\n",
        "    result = []\n",
        "    solve(board, 0, n, result)\n",
        "    return result\n",
        "\n",
        "n = 4\n",
        "result = solve_n_queens(n)\n",
        "for solution in result:\n",
        "    print(solution)\n",
        "\n"
      ],
      "metadata": {
        "colab": {
          "base_uri": "https://localhost:8080/"
        },
        "id": "CTxst--QywAO",
        "outputId": "1b0fc7a5-f616-4b7c-f155-048684def4ea"
      },
      "execution_count": 10,
      "outputs": [
        {
          "output_type": "stream",
          "name": "stdout",
          "text": [
            "['.Q..', '...Q', 'Q...', '..Q.']\n",
            "['..Q.', 'Q...', '...Q', '.Q..']\n"
          ]
        }
      ]
    },
    {
      "cell_type": "code",
      "source": [],
      "metadata": {
        "id": "sUqCjZXmyv9y"
      },
      "execution_count": null,
      "outputs": []
    },
    {
      "cell_type": "code",
      "source": [],
      "metadata": {
        "id": "twrqzfBRyv7S"
      },
      "execution_count": null,
      "outputs": []
    },
    {
      "cell_type": "code",
      "source": [],
      "metadata": {
        "id": "YWTDHAQkyv5C"
      },
      "execution_count": null,
      "outputs": []
    },
    {
      "cell_type": "code",
      "source": [],
      "metadata": {
        "id": "-nnWwrimyv2h"
      },
      "execution_count": null,
      "outputs": []
    },
    {
      "cell_type": "code",
      "source": [],
      "metadata": {
        "id": "QDJk2sW6yv0F"
      },
      "execution_count": null,
      "outputs": []
    }
  ]
}